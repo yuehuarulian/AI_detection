{
    "cells": [
        {
            "cell_type": "markdown",
            "metadata": {},
            "source": [
                "## 加目录"
            ]
        },
        {
            "cell_type": "code",
            "execution_count": null,
            "metadata": {},
            "outputs": [],
            "source": [
                "import os\n",
                "import shutil\n",
                "\n",
                "def move_images_with_index(directory):\n",
                "    # 确定要处理的图片扩展名\n",
                "    image_extensions = ['.jpg', '.jpeg', '.png', '.bmp', '.gif']  # 你可以根据需要添加其他格式\n",
                "    index = 0\n",
                "\n",
                "    for filename in os.listdir(directory):\n",
                "        # 获取文件的扩展名，并判断是否是图片文件\n",
                "        ext = os.path.splitext(filename)[1].lower()\n",
                "        if ext in image_extensions:\n",
                "            new_folder_path = os.path.join(directory, str(index))\n",
                "            os.makedirs(new_folder_path, exist_ok=True)  # 创建编号文件夹（如果不存在）\n",
                "\n",
                "            # 构建原文件路径和新文件路径\n",
                "            src_file_path = os.path.join(directory, filename)\n",
                "            dest_file_path = os.path.join(new_folder_path, filename)\n",
                "\n",
                "            # 将文件移动到新文件夹中\n",
                "            shutil.move(src_file_path, dest_file_path)\n",
                "            print(f\"Moved {filename} to folder {index}\")\n",
                "\n",
                "            # 递增 index\n",
                "            index += 1\n",
                "\n",
                "directory = r'.\\datasets\\phase'  # 修改为你图片文件所在的目录路径\n",
                "for filename in os.listdir(directory):\n",
                "    if os.path.isdir(os.path.join(directory, filename, 'frames')):\n",
                "        # print (os.path.join(directory, filename, 'frames'))\n",
                "        move_images_with_index(os.path.join(directory, filename, 'frames'))\n"
            ]
        },
        {
            "cell_type": "markdown",
            "metadata": {},
            "source": [
                "## 查看数据"
            ]
        },
        {
            "cell_type": "code",
            "execution_count": null,
            "metadata": {},
            "outputs": [],
            "source": [
                "import pickle\n",
                "\n",
                "# 加载 .pickle 文件\n",
                "with open('./logs/training/ucf_None_2024-10-17-20-53-03/test/B_data/data_dict_test.pickle', 'rb') as file:\n",
                "    data_dict = pickle.load(file)\n",
                "\n",
                "# 查看文件内容\n",
                "print(data_dict)\n"
            ]
        },
        {
            "cell_type": "markdown",
            "metadata": {},
            "source": [
                "## 处理图片格式"
            ]
        },
        {
            "cell_type": "code",
            "execution_count": null,
            "metadata": {},
            "outputs": [],
            "source": [
                "import os\n",
                "import shutil\n",
                "import cv2\n",
                "import imghdr\n",
                "\n",
                "path = r\"datasets\\web\"\n",
                "exe = ['.jpg', '.jpeg', '.png', '.bmp']\n",
                "false_exe = ['.webp', '.gif']\n",
                "index = 0\n",
                "for root, dirs, files in os.walk(path):\n",
                "    for file in files:\n",
                "        if os.path.splitext(file)[1] in exe:\n",
                "            continue\n",
                "        if os.path.splitext(file)[1] in false_exe:\n",
                "            img = cv2.imread(os.path.join(root, file))\n",
                "            cv2.imwrite(os.path.join(root, file.replace(os.path.splitext(file)[1], '.jpg')), img)\n",
                "            os.remove(os.path.join(root, file))\n",
                "            print(f\"移动文件 {os.path.join(root, file)} 到 {os.path.join(root, file.replace(os.path.splitext(file)[1], '.jpg'))}\")\n",
                "        if os.path.splitext(file)[0] == 'OIP':\n",
                "            # file_type = imghdr.what(file)\n",
                "            # if file_type:\n",
                "            #    print(f\"文件类型为: {file_type}\")\n",
                "            #    file_with_extension = file + \".\" + file_type\n",
                "            #    img = Image.open(file_with_extension)\n",
                "            # else:\n",
                "            #    print(\"无法识别文件类型\")\n",
                "\n",
                "            img = cv2.imread(os.path.join(root, file))\n",
                "            cv2.imwrite(os.path.join(root, file.replace(os.path.splitext(file)[0], str(index))).replace(os.path.splitext(file)[1], '.jpg'), img)\n",
                "            os.remove(os.path.join(root, file))\n",
                "            print(f\"移动文件 {os.path.join(root, file)} 到 {file.replace(os.path.splitext(file)[0], str(index)).replace(os.path.splitext(file)[1], '.jpg')}\")\n",
                "            index += 1\n"
            ]
        }
    ],
    "metadata": {
        "kernelspec": {
            "display_name": "LAA",
            "language": "python",
            "name": "python3"
        },
        "language_info": {
            "codemirror_mode": {
                "name": "ipython",
                "version": 3
            },
            "file_extension": ".py",
            "mimetype": "text/x-python",
            "name": "python",
            "nbconvert_exporter": "python",
            "pygments_lexer": "ipython3",
            "version": "3.8.19"
        }
    },
    "nbformat": 4,
    "nbformat_minor": 2
}
