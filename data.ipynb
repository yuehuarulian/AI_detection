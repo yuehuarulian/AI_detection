{
 "cells": [
  {
   "cell_type": "markdown",
   "metadata": {},
   "source": [
    "## waitan2024_deepfake_challenge__赛道1对外发布数据集_phase1 数据集处理"
   ]
  },
  {
   "cell_type": "code",
   "execution_count": 1,
   "metadata": {},
   "outputs": [],
   "source": [
    "import os\n",
    "import shutil\n",
    "\n",
    "# 定义文件路径\n",
    "label_file = r\"F:\\waitan2024_deepfake_challenge__赛道1对外发布数据集_phase1\\phase1\\trainset_label.txt\"\n",
    "source_dir = r\"F:\\waitan2024_deepfake_challenge__赛道1对外发布数据集_phase1\\phase1\\trainset\"\n",
    "destination_dir_0 = r\"E:\\AI_Detection\\dataset\\train\\phase\\0\"\n",
    "destination_dir_1 = r\"E:\\AI_Detection\\dataset\\train\\phase\\1\"\n",
    "\n",
    "# 创建目标目录（如果不存在）\n",
    "os.makedirs(destination_dir_0, exist_ok=True)\n",
    "os.makedirs(destination_dir_1, exist_ok=True)\n",
    "\n",
    "with open(label_file,'r') as file:\n",
    "    for line in file:\n",
    "        line = line.strip()\n",
    "        if not line:\n",
    "            continue  # 跳过空行\n",
    "        image_name, label = line.split(',')\n",
    "        source_path = os.path.join(source_dir, image_name)\n",
    "        if label == '1':\n",
    "            destination_path = os.path.join(destination_dir_1, image_name)\n",
    "        else:\n",
    "            destination_path = os.path.join(destination_dir_0, image_name)\n",
    "\n",
    "        # 检查源文件是否存在\n",
    "        if os.path.exists(source_path):\n",
    "            # 将文件移动到目标目录\n",
    "            shutil.move(source_path, destination_path)\n",
    "            print(f\"移动文件 {source_path} 到 {destination_path}\")\n",
    "        else:\n",
    "            print(f\"文件未找到: {source_path}\")\n"
   ]
  }
 ],
 "metadata": {
  "kernelspec": {
   "display_name": "rl",
   "language": "python",
   "name": "python3"
  },
  "language_info": {
   "codemirror_mode": {
    "name": "ipython",
    "version": 3
   },
   "file_extension": ".py",
   "mimetype": "text/x-python",
   "name": "python",
   "nbconvert_exporter": "python",
   "pygments_lexer": "ipython3",
   "version": "3.12.4"
  }
 },
 "nbformat": 4,
 "nbformat_minor": 2
}
