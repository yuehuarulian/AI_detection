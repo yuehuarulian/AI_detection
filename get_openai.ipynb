{
 "cells": [
  {
   "cell_type": "code",
   "execution_count": null,
   "metadata": {},
   "outputs": [],
   "source": [
    "from openai import OpenAI\n",
    "client = OpenAI()\n",
    "\n",
    "response = client.images.generate(\n",
    "    prompt=\"A cute baby sea otter\",\n",
    "    n=2,\n",
    "    size=\"1024x1024\"\n",
    ")\n",
    "\n",
    "print(response.data[0].url)"
   ]
  },
  {
   "cell_type": "code",
   "execution_count": null,
   "metadata": {},
   "outputs": [],
   "source": [
    "from openai import OpenAI\n",
    "client = OpenAI()\n",
    "\n",
    "response = client.images.generate(\n",
    "  model=\"dall-e-3\",\n",
    "  prompt=\"a white siamese cat\",\n",
    "  size=\"1024x1024\",\n",
    "  quality=\"standard\",\n",
    "  n=1,\n",
    ")\n",
    "\n",
    "image_url = response.data[0].url\n",
    "\n",
    "print(f\"Image URL: {image_url}\")\n"
   ]
  },
  {
   "cell_type": "code",
   "execution_count": null,
   "metadata": {},
   "outputs": [],
   "source": [
    "\n",
    "import requests\n",
    "\n",
    "response = requests.post(\n",
    "    f\"https://api.stability.ai/v2beta/stable-image/generate/sd3\",\n",
    "    headers={\n",
    "        \"authorization\": f\"Bearer sk-MYAPIKEY\",\n",
    "        \"accept\": \"image/*\"\n",
    "    },\n",
    "    files={\"none\": ''},\n",
    "    data={\n",
    "        \"prompt\": \"Lighthouse on a cliff overlooking the ocean\",\n",
    "        \"output_format\": \"jpeg\",\n",
    "    },\n",
    ")\n",
    "\n",
    "if response.status_code == 200:\n",
    "    with open(\"./lighthouse.jpeg\", 'wb') as file:\n",
    "        file.write(response.content)\n",
    "else:\n",
    "    raise Exception(str(response.json()))"
   ]
  }
 ],
 "metadata": {
  "kernelspec": {
   "display_name": "yolov8",
   "language": "python",
   "name": "python3"
  },
  "language_info": {
   "codemirror_mode": {
    "name": "ipython",
    "version": 3
   },
   "file_extension": ".py",
   "mimetype": "text/x-python",
   "name": "python",
   "nbconvert_exporter": "python",
   "pygments_lexer": "ipython3",
   "version": "3.12.3"
  }
 },
 "nbformat": 4,
 "nbformat_minor": 2
}
